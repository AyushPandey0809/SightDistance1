{
 "cells": [
  {
   "cell_type": "code",
   "execution_count": 1,
   "metadata": {},
   "outputs": [
    {
     "data": {
      "text/plain": [
       "y_r (generic function with 1 method)"
      ]
     },
     "execution_count": 1,
     "metadata": {},
     "output_type": "execute_result"
    }
   ],
   "source": [
    "function y_r(x::Real; g1 = 0.1, g2 = 0.05, l = 10)\n",
    "    if x<0\n",
    "        y = g1*x;\n",
    "    elseif x>=0 && x<l\n",
    "        y = g1*x - ((g1 + g2)*x^2)/(2*l);\n",
    "    else\n",
    "        y = (g1 + g2)*l/2 - g2*x;\n",
    "    end\n",
    "    return y\n",
    "end"
   ]
  },
  {
   "cell_type": "code",
   "execution_count": 2,
   "metadata": {},
   "outputs": [
    {
     "data": {
      "text/plain": [
       "y_r_prime (generic function with 1 method)"
      ]
     },
     "execution_count": 2,
     "metadata": {},
     "output_type": "execute_result"
    }
   ],
   "source": [
    "function y_r_prime(x::Real; g1 = 0.1, g2 = 0.05, l = 10)\n",
    "    if x<0\n",
    "        y = g1;\n",
    "    elseif x>=0 && x<l\n",
    "        y = g1 - ((g1 + g2)*x)/(l);\n",
    "    else\n",
    "        y = -g2;\n",
    "    end\n",
    "    return y\n",
    "end"
   ]
  },
  {
   "cell_type": "code",
   "execution_count": 3,
   "metadata": {},
   "outputs": [
    {
     "data": {
      "text/plain": [
       "y_c (generic function with 1 method)"
      ]
     },
     "execution_count": 3,
     "metadata": {},
     "output_type": "execute_result"
    }
   ],
   "source": [
    "function y_c(x::Real, hc::Real; g1 = 0.1, g2 = 0.05, l = 10)\n",
    "    return y_r(x, g1 = g1, g2 = g2, l = l) + hc\n",
    "end"
   ]
  },
  {
   "cell_type": "code",
   "execution_count": 4,
   "metadata": {},
   "outputs": [],
   "source": [
    "using Polynomials, Roots, NLsolve"
   ]
  },
  {
   "cell_type": "code",
   "execution_count": 5,
   "metadata": {},
   "outputs": [
    {
     "data": {
      "text/plain": [
       "sd (generic function with 1 method)"
      ]
     },
     "execution_count": 5,
     "metadata": {},
     "output_type": "execute_result"
    }
   ],
   "source": [
    "function sd(xc::Real, hc::Real)\n",
    "    f(x)  = y_r_prime(x)*(xc - x) + y_r(x) - y_r(xc) - hc\n",
    "    xm = find_zero(f, [xc, xc + 500])\n",
    "    return xm\n",
    "end"
   ]
  },
  {
   "cell_type": "code",
   "execution_count": 6,
   "metadata": {},
   "outputs": [
    {
     "name": "stdout",
     "output_type": "stream",
     "text": [
      "The line of sight hits the road at 7.583057392117916, 0.3270350436206353\n"
     ]
    }
   ],
   "source": [
    "xc = -5;\n",
    "hc = 1;\n",
    "ho = 1;\n",
    "\n",
    "xm = sd(xc, hc);\n",
    "ym = y_r(xm);\n",
    "\n",
    "println(\"The line of sight hits the road at $xm, $ym\")"
   ]
  },
  {
   "cell_type": "code",
   "execution_count": 15,
   "metadata": {},
   "outputs": [
    {
     "data": {
      "text/plain": [
       "los (generic function with 1 method)"
      ]
     },
     "execution_count": 15,
     "metadata": {},
     "output_type": "execute_result"
    }
   ],
   "source": [
    "function los(x, xc, xm, hc)\n",
    "    yc = y_c(xc, hc);\n",
    "    ym = y_r(xm);\n",
    "    m = (yc - ym)/(xc - xm);\n",
    "    c = yc - m*xc;\n",
    "    return m*x + c\n",
    "end"
   ]
  },
  {
   "cell_type": "code",
   "execution_count": 16,
   "metadata": {},
   "outputs": [
    {
     "data": {
      "text/plain": [
       "0.36254139118231254"
      ]
     },
     "execution_count": 16,
     "metadata": {},
     "output_type": "execute_result"
    }
   ],
   "source": [
    "los(5, xc, xm, hc)"
   ]
  },
  {
   "cell_type": "code",
   "execution_count": 19,
   "metadata": {},
   "outputs": [
    {
     "data": {
      "text/plain": [
       "objd (generic function with 1 method)"
      ]
     },
     "execution_count": 19,
     "metadata": {},
     "output_type": "execute_result"
    }
   ],
   "source": [
    "function objd(xc, xm, hc, ho)\n",
    "    f(x) = y_r(x) + ho - los(x, xc, xm, hc)\n",
    "    xo = find_zero(f, [xm, xm+10000]);\n",
    "    return xo\n",
    "end"
   ]
  },
  {
   "cell_type": "code",
   "execution_count": 14,
   "metadata": {},
   "outputs": [
    {
     "data": {
      "text/plain": [
       "-0.8625413911823125"
      ]
     },
     "execution_count": 14,
     "metadata": {},
     "output_type": "execute_result"
    }
   ],
   "source": [
    "los(xm, xc, xm, hc)"
   ]
  },
  {
   "cell_type": "code",
   "execution_count": 22,
   "metadata": {},
   "outputs": [
    {
     "data": {
      "text/plain": [
       "0.0"
      ]
     },
     "execution_count": 22,
     "metadata": {},
     "output_type": "execute_result"
    }
   ],
   "source": [
    "objd(xc, xm, hc, 0)"
   ]
  }
 ],
 "metadata": {
  "kernelspec": {
   "display_name": "Julia 1.1.0",
   "language": "julia",
   "name": "julia-1.1"
  },
  "language_info": {
   "file_extension": ".jl",
   "mimetype": "application/julia",
   "name": "julia",
   "version": "1.1.0"
  }
 },
 "nbformat": 4,
 "nbformat_minor": 2
}
